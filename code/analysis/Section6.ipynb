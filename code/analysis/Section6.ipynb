{
 "cells": [
  {
   "cell_type": "code",
   "execution_count": 1,
   "id": "c44fe5f3",
   "metadata": {},
   "outputs": [],
   "source": [
    "from utils import *\n",
    "from scipy.optimize import least_squares\n",
    "import scipy.stats as stats"
   ]
  },
  {
   "cell_type": "code",
   "execution_count": 2,
   "id": "40f930d3",
   "metadata": {},
   "outputs": [],
   "source": [
    "def significance_symbol(coeff, se):\n",
    "    \"\"\"Return significance symbols based on p-value.\"\"\"\n",
    "    \n",
    "    t_stat = coeff / se\n",
    "    p_value = 2 * (1 - stats.norm.cdf(abs(t_stat)))\n",
    "    \n",
    "    if p_value < 0.001:\n",
    "        return '\\sym{{*}{*}{*}}'\n",
    "    elif p_value < 0.01:\n",
    "        return '\\sym{{*}{*}}'\n",
    "    elif p_value < 0.05:\n",
    "        return '\\sym{*}'\n",
    "    else:\n",
    "        return ''"
   ]
  },
  {
   "cell_type": "code",
   "execution_count": 3,
   "id": "41229c3c",
   "metadata": {},
   "outputs": [],
   "source": [
    "def bootstrap_ses(df, n_bootstrap=1000):\n",
    "    # Store the estimated parameters\n",
    "    params_bootstrapped = np.zeros((n_bootstrap, 3))\n",
    "    \n",
    "    # Perform bootstrap resampling\n",
    "    for i in tqdm(range(n_bootstrap)):\n",
    "        # Resample the data with replacement\n",
    "        resample_index = np.random.choice(df.index, size=len(df), replace=True)\n",
    "        df_resampled = df.loc[resample_index]\n",
    "        \n",
    "        # Estimate parameters on the resampled data\n",
    "        res = estimate_ystar_alpha(df_resampled)\n",
    "        \n",
    "        # Save the estimated parameters\n",
    "        params_bootstrapped[i, :] = res.x\n",
    "\n",
    "    # Compute the standard error for each parameter\n",
    "    standard_errors = params_bootstrapped.std(axis=0)\n",
    "\n",
    "    return standard_errors"
   ]
  },
  {
   "cell_type": "code",
   "execution_count": 4,
   "id": "e3b3d705",
   "metadata": {},
   "outputs": [],
   "source": [
    "def estimate_ystar_alpha(df):\n",
    "    \n",
    "    def model(params):\n",
    "        ystar=params[0]/100\n",
    "        alpha_u80=params[1]\n",
    "        alpha_o80=params[2]\n",
    "        \n",
    "        p1 = 1 - np.exp(-ystar * (df['T'] + df['k']))\n",
    "        p0 = 1 - np.exp(-ystar * df['T'])\n",
    "        p0_option_val = (df['over80'] * (df['Pi'] * (1 - alpha_o80) + (1 - df['Pi']) * (1 - alpha_u80))) * (np.exp(-ystar * df['T']) - np.exp(-ystar * (df['T'] + 90)))\n",
    "        did_est = np.log(p1) - np.log(p0 + p0_option_val)\n",
    "        return did_est \n",
    "    \n",
    "    def nlls(params):\n",
    "        return model(params) - df['did']\n",
    "    \n",
    "    # Estimate ystar as if there were full holdup\n",
    "    res = least_squares(nlls, x0=[3, 1, 1], bounds=([0,0,0], [np.inf,1,1]), loss='linear')\n",
    "    return res"
   ]
  },
  {
   "cell_type": "code",
   "execution_count": 5,
   "id": "b89f21d6",
   "metadata": {},
   "outputs": [],
   "source": [
    "def estimate(df):\n",
    "    print(\"Estimating Coefficients\")\n",
    "    coeffs = estimate_ystar_alpha(df).x\n",
    "    print(\"Getting Standard Errors\")\n",
    "    ses = bootstrap_ses(df)\n",
    "    return coeffs, ses\n",
    "    "
   ]
  },
  {
   "cell_type": "code",
   "execution_count": 6,
   "id": "9027213b",
   "metadata": {},
   "outputs": [],
   "source": [
    "file = os.path.join(clean_folder, 'experiments.dta')\n",
    "df = pd.read_stata(file)\n",
    "df = df[~df['did'].isna()]\n",
    "df = df[df.year>=2003].copy()"
   ]
  },
  {
   "cell_type": "code",
   "execution_count": 7,
   "id": "2765549b",
   "metadata": {},
   "outputs": [],
   "source": [
    "df['over80'] = (df['T']>80)"
   ]
  },
  {
   "cell_type": "code",
   "execution_count": 8,
   "id": "a48ca655",
   "metadata": {},
   "outputs": [],
   "source": [
    "pre = df[df.year<=2010]\n",
    "post = df[df.year>2010]"
   ]
  },
  {
   "cell_type": "code",
   "execution_count": 9,
   "id": "6d44ba7e",
   "metadata": {},
   "outputs": [
    {
     "name": "stdout",
     "output_type": "stream",
     "text": [
      "Estimating Coefficients\n",
      "Getting Standard Errors\n"
     ]
    },
    {
     "name": "stderr",
     "output_type": "stream",
     "text": [
      "100%|███████████████████████████████████████████| 1000/1000 [02:06<00:00,  7.88it/s]\n"
     ]
    },
    {
     "name": "stdout",
     "output_type": "stream",
     "text": [
      "Estimating Coefficients\n",
      "Getting Standard Errors\n"
     ]
    },
    {
     "name": "stderr",
     "output_type": "stream",
     "text": [
      "100%|███████████████████████████████████████████| 1000/1000 [08:21<00:00,  1.99it/s]\n"
     ]
    }
   ],
   "source": [
    "coeffs0, ses0 = estimate(pre)\n",
    "coeffs1, ses1 = estimate(post)"
   ]
  },
  {
   "cell_type": "code",
   "execution_count": 10,
   "id": "21a7ec79",
   "metadata": {},
   "outputs": [],
   "source": [
    "coefficients = {'pre':coeffs0, 'post':coeffs1}\n",
    "std_errors = {'pre':ses0, 'post':ses1}"
   ]
  },
  {
   "cell_type": "code",
   "execution_count": 11,
   "id": "6d71ce25",
   "metadata": {},
   "outputs": [],
   "source": [
    "# Create table\n",
    "num_pre = len(pre)\n",
    "num_post = len(post)\n",
    "\n",
    "# Assuming the coefficients, standard errors and p-values are structured like this:\n",
    "variables = [r\"$\\rstarK$\", r\"$\\alpha_{t}^{H}$\", r\"$\\alpha_{t}^{L}$\"]\n",
    "\n",
    "# Create the LaTeX table\n",
    "latex_table = r\"\\begin{tabular}{lcc}\" + \"\\n\"\n",
    "latex_table += r\"\\hline\" + \"\\n\"\n",
    "latex_table += r\"& \\multicolumn{1}{c}{(1)} & \\multicolumn{1}{c}{(2)}\\\\\" + \"\\n\"\n",
    "latex_table += r\"\\hline\" + \"\\n\"\n",
    "\n",
    "for i, var in enumerate(variables):\n",
    "    latex_table += f\"{var}\"\n",
    "    for period in coefficients.keys():\n",
    "        latex_table += f\"& {coefficients[period][i]:.2f}{significance_symbol(coefficients[period][i], std_errors[period][i])}\"\n",
    "    latex_table += r\"\\\\\" + \"\\n\"\n",
    "    for period in coefficients.keys():\n",
    "        latex_table += f\"& ({std_errors[period][i]:.2f})\"\n",
    "    latex_table += r\"\\\\\" + \"\\n\"\n",
    "\n",
    "latex_table += r\"\\hline\" + \"\\n\"\n",
    "latex_table += r\"Period & Pre 2010 & Post 2010\\\\\" + \"\\n\"\n",
    "latex_table += f\"N & {num_pre:,} & {num_post:,}\" + r\"\\\\\" + \"\\n\"\n",
    "latex_table += r\"\\hline\" + \"\\n\"\n",
    "latex_table += r\"\\hline\" + \"\\n\"\n",
    "latex_table += r\"\\multicolumn{2}{l}{{\\footnotesize{}Standard errors in parentheses}}\\\\\" + \"\\n\"\n",
    "latex_table += r\"\\multicolumn{2}{l}{{\\footnotesize{}\\sym{*} $p<0.05$, \\sym{{*}{*}} $p<0.01$, \\sym{{*}{*}{*}} $p<0.001$}}\" + \"\\n\"\n",
    "latex_table += r\"\\end{tabular}\""
   ]
  },
  {
   "cell_type": "code",
   "execution_count": 12,
   "id": "9d1798b0",
   "metadata": {},
   "outputs": [],
   "source": [
    "file = os.path.join(tables_folder, 'estimate_alphas.tex')\n",
    "with open(file, \"w\") as f:\n",
    "    f.write(latex_table)"
   ]
  }
 ],
 "metadata": {
  "kernelspec": {
   "display_name": "Python 3 (ipykernel)",
   "language": "python",
   "name": "python3"
  },
  "language_info": {
   "codemirror_mode": {
    "name": "ipython",
    "version": 3
   },
   "file_extension": ".py",
   "mimetype": "text/x-python",
   "name": "python",
   "nbconvert_exporter": "python",
   "pygments_lexer": "ipython3",
   "version": "3.10.10"
  }
 },
 "nbformat": 4,
 "nbformat_minor": 5
}
